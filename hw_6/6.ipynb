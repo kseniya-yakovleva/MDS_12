{
 "cells": [
  {
   "cell_type": "code",
   "execution_count": 1,
   "metadata": {},
   "outputs": [],
   "source": [
    "import numpy as np\n",
    "from scipy.optimize import differential_evolution"
   ]
  },
  {
   "cell_type": "markdown",
   "metadata": {},
   "source": [
    "При фиксированном seed=42 поразбирайтесь и поэкспериментируйте с параметрами алгоритма дифференциальной эволюции: strategy, popsize, tol, mutation, recombination и updating.\n"
   ]
  },
  {
   "cell_type": "code",
   "execution_count": 2,
   "metadata": {},
   "outputs": [
    {
     "data": {
      "text/plain": [
       "     fun: 4.440892098500626e-16\n",
       " message: 'Optimization terminated successfully.'\n",
       "    nfev: 2793\n",
       "     nit: 90\n",
       " success: True\n",
       "       x: array([0., 0.])"
      ]
     },
     "execution_count": 2,
     "metadata": {},
     "output_type": "execute_result"
    }
   ],
   "source": [
    "def ackley(x):\n",
    "    arg1 = -0.2 * np.sqrt(0.5 * (x[0] ** 2 + x[1] ** 2))\n",
    "    arg2 = 0.5 * (np.cos(2. * np.pi * x[0]) + np.cos(2. * np.pi * x[1]))\n",
    "    return -20. * np.exp(arg1) - np.exp(arg2) + 20. + np.e\n",
    "\n",
    "bounds = [(-10, 10), (-10, 10)]\n",
    "\n",
    "result = differential_evolution(ackley, bounds, seed=42)\n",
    "result"
   ]
  },
  {
   "cell_type": "code",
   "execution_count": 8,
   "metadata": {},
   "outputs": [
    {
     "data": {
      "text/plain": [
       "     fun: 3.363301193104462e-09\n",
       "     jac: array([2.75899303, 2.71711116])\n",
       " message: 'Optimization terminated successfully.'\n",
       "    nfev: 816\n",
       "     nit: 35\n",
       " success: True\n",
       "       x: array([9.17440827e-10, 7.56489980e-10])"
      ]
     },
     "execution_count": 8,
     "metadata": {},
     "output_type": "execute_result"
    }
   ],
   "source": [
    "result_1 = differential_evolution(ackley, bounds, strategy='best1bin', popsize=10, mutation=1, recombination=0.7,seed=42, updating='immediate')\n",
    "result_1 #уменьшение размера популяции"
   ]
  },
  {
   "cell_type": "code",
   "execution_count": 10,
   "metadata": {},
   "outputs": [
    {
     "data": {
      "text/plain": [
       "     fun: 5.767519795085718e-11\n",
       "     jac: array([2.82269319, 2.82842727])\n",
       " message: 'Optimization terminated successfully.'\n",
       "    nfev: 4728\n",
       "     nit: 116\n",
       " success: True\n",
       "       x: array([9.56052266e-14, 2.03904501e-11])"
      ]
     },
     "execution_count": 10,
     "metadata": {},
     "output_type": "execute_result"
    }
   ],
   "source": [
    "result_2 = differential_evolution(ackley, bounds, strategy='best1bin', popsize=20, mutation=1, recombination=0.7,seed=42, updating='immediate')\n",
    "result_2 #увеличение размера популяции"
   ]
  },
  {
   "cell_type": "code",
   "execution_count": 13,
   "metadata": {},
   "outputs": [
    {
     "data": {
      "text/plain": [
       "     fun: 4.440892098500626e-16\n",
       " message: 'Optimization terminated successfully.'\n",
       "    nfev: 2503\n",
       "     nit: 60\n",
       " success: True\n",
       "       x: array([0., 0.])"
      ]
     },
     "execution_count": 13,
     "metadata": {},
     "output_type": "execute_result"
    }
   ],
   "source": [
    "result_3 = differential_evolution(ackley, bounds, strategy='best1bin', popsize=20, mutation=0.5, recombination=0.7,seed=42, updating='immediate')\n",
    "result_3 #уменьшение параметра мутации"
   ]
  },
  {
   "cell_type": "code",
   "execution_count": 24,
   "metadata": {},
   "outputs": [
    {
     "data": {
      "text/plain": [
       "     fun: 4.440892098500626e-16\n",
       " message: 'Optimization terminated successfully.'\n",
       "    nfev: 3103\n",
       "     nit: 75\n",
       " success: True\n",
       "       x: array([0., 0.])"
      ]
     },
     "execution_count": 24,
     "metadata": {},
     "output_type": "execute_result"
    }
   ],
   "source": [
    "result_4 = differential_evolution(ackley, bounds, strategy='best1bin', popsize=20, mutation=0.5, recombination=0.35,seed=42, updating='immediate')\n",
    "result_4 #уменьшение параметра рекомбинации"
   ]
  },
  {
   "cell_type": "code",
   "execution_count": 38,
   "metadata": {},
   "outputs": [
    {
     "data": {
      "text/plain": [
       "     fun: 8.366278780869152e-09\n",
       "     jac: array([ 2.8195327 , -2.24271623])\n",
       " message: 'Optimization terminated successfully.'\n",
       "    nfev: 248\n",
       "     nit: 1\n",
       " success: True\n",
       "       x: array([ 2.91722477e-09, -4.89006880e-10])"
      ]
     },
     "execution_count": 38,
     "metadata": {},
     "output_type": "execute_result"
    }
   ],
   "source": [
    "result_5 = differential_evolution(ackley, bounds, strategy='best1bin', popsize=20, tol=0.5, mutation=0.5, recombination=0.35,seed=42, updating='immediate')\n",
    "result_5 #увеличение tol, до 0,32 считал как в прошлом примере"
   ]
  },
  {
   "cell_type": "code",
   "execution_count": 40,
   "metadata": {},
   "outputs": [
    {
     "data": {
      "text/plain": [
       "     fun: 4.440892098500626e-16\n",
       " message: 'Optimization terminated successfully.'\n",
       "    nfev: 3783\n",
       "     nit: 92\n",
       " success: True\n",
       "       x: array([0., 0.])"
      ]
     },
     "execution_count": 40,
     "metadata": {},
     "output_type": "execute_result"
    }
   ],
   "source": [
    "result_6 = differential_evolution(ackley, bounds, strategy='best1bin', popsize=20, mutation=0.5, recombination=0.35,seed=42, updating='deferred')\n",
    "result_6 #смена значения в updating"
   ]
  },
  {
   "cell_type": "code",
   "execution_count": 43,
   "metadata": {},
   "outputs": [
    {
     "data": {
      "text/plain": [
       "     fun: 4.440892098500626e-16\n",
       " message: 'Optimization terminated successfully.'\n",
       "    nfev: 5423\n",
       "     nit: 133\n",
       " success: True\n",
       "       x: array([0., 0.])"
      ]
     },
     "execution_count": 43,
     "metadata": {},
     "output_type": "execute_result"
    }
   ],
   "source": [
    "result_6 = differential_evolution(ackley, bounds, strategy='rand1bin', popsize=20, mutation=0.5, recombination=0.35,seed=42, updating='immediate')\n",
    "result_6 #с рандомной стратегией"
   ]
  },
  {
   "cell_type": "code",
   "execution_count": 44,
   "metadata": {},
   "outputs": [
    {
     "data": {
      "text/plain": [
       "     fun: 4.440892098500626e-16\n",
       " message: 'Optimization terminated successfully.'\n",
       "    nfev: 4663\n",
       "     nit: 114\n",
       " success: True\n",
       "       x: array([0., 0.])"
      ]
     },
     "execution_count": 44,
     "metadata": {},
     "output_type": "execute_result"
    }
   ],
   "source": [
    "result_7 = differential_evolution(ackley, bounds, strategy='best2bin', popsize=20, mutation=0.5, recombination=0.35,seed=42, updating='immediate')\n",
    "result_7 "
   ]
  },
  {
   "cell_type": "code",
   "execution_count": 45,
   "metadata": {},
   "outputs": [
    {
     "data": {
      "text/plain": [
       "     fun: 4.440892098500626e-16\n",
       " message: 'Optimization terminated successfully.'\n",
       "    nfev: 10343\n",
       "     nit: 256\n",
       " success: True\n",
       "       x: array([0., 0.])"
      ]
     },
     "execution_count": 45,
     "metadata": {},
     "output_type": "execute_result"
    }
   ],
   "source": [
    "result_8 = differential_evolution(ackley, bounds, strategy='best1exp', popsize=20, mutation=1, recombination=0.7,seed=42, updating='immediate')\n",
    "result_8"
   ]
  },
  {
   "cell_type": "code",
   "execution_count": 55,
   "metadata": {},
   "outputs": [
    {
     "data": {
      "text/plain": [
       "     fun: 4.440892098500626e-16\n",
       " message: 'Maximum number of iterations has been exceeded.'\n",
       "    nfev: 40103\n",
       "     nit: 1000\n",
       " success: False\n",
       "       x: array([0., 0.])"
      ]
     },
     "execution_count": 55,
     "metadata": {},
     "output_type": "execute_result"
    }
   ],
   "source": [
    "result_9 = differential_evolution(ackley, bounds, strategy='currenttobest1bin', popsize=20, mutation=1, recombination=0.7,seed=42, updating='immediate')\n",
    "result_9 #пример плохой стратегии для этой функции"
   ]
  },
  {
   "cell_type": "code",
   "execution_count": 54,
   "metadata": {},
   "outputs": [
    {
     "data": {
      "text/plain": [
       "     fun: 4.440892098500626e-16\n",
       " message: 'Optimization terminated successfully.'\n",
       "    nfev: 7703\n",
       "     nit: 190\n",
       " success: True\n",
       "       x: array([0., 0.])"
      ]
     },
     "execution_count": 54,
     "metadata": {},
     "output_type": "execute_result"
    }
   ],
   "source": [
    "result_9_1 = differential_evolution(ackley, bounds, strategy='currenttobest1bin', popsize=20, mutation=1, recombination=0.7,seed=42, updating='deferred')\n",
    "result_9_1 # с updating='deferred'работает"
   ]
  },
  {
   "cell_type": "code",
   "execution_count": 56,
   "metadata": {},
   "outputs": [
    {
     "data": {
      "text/plain": [
       "     fun: 4.440892098500626e-16\n",
       " message: 'Optimization terminated successfully.'\n",
       "    nfev: 10423\n",
       "     nit: 258\n",
       " success: True\n",
       "       x: array([0., 0.])"
      ]
     },
     "execution_count": 56,
     "metadata": {},
     "output_type": "execute_result"
    }
   ],
   "source": [
    "result_10 = differential_evolution(ackley, bounds, strategy='currenttobest1exp', popsize=20, mutation=1, recombination=0.7,seed=42, updating='immediate')\n",
    "result_10"
   ]
  },
  {
   "cell_type": "code",
   "execution_count": 51,
   "metadata": {},
   "outputs": [
    {
     "data": {
      "text/plain": [
       "     fun: 4.440892098500626e-16\n",
       " message: 'Optimization terminated successfully.'\n",
       "    nfev: 7583\n",
       "     nit: 187\n",
       " success: True\n",
       "       x: array([0., 0.])"
      ]
     },
     "execution_count": 51,
     "metadata": {},
     "output_type": "execute_result"
    }
   ],
   "source": [
    "result_11 = differential_evolution(ackley, bounds, strategy='best1bin', popsize=20, mutation=1, recombination=0.7,seed=42, updating='deferred')\n",
    "result_11"
   ]
  },
  {
   "cell_type": "markdown",
   "metadata": {},
   "source": [
    "В целом,  для этого метода советуют ставить выше popsize и mutation и ниже recombination (что увеличивает радиус поиска минимума). В данном примере с функцией уменьшение popsize сказалось на количестве итераций (уменьшение), но увеличило погрешность в результате. Для уменьшения количества итераций при достаточной точности результата помогло уменьшение mutation и увеличение popsize (потом снижение recombination немного увеличило итерации). Также оптимальной стратегией, видимо, будет 'best1bin' с updating='immediate', точно неудачной 'currenttobest1bin' с updating='immediate' (с updating='deferred' она работает)."
   ]
  }
 ],
 "metadata": {
  "kernelspec": {
   "display_name": "Python 3",
   "language": "python",
   "name": "python3"
  },
  "language_info": {
   "codemirror_mode": {
    "name": "ipython",
    "version": 3
   },
   "file_extension": ".py",
   "mimetype": "text/x-python",
   "name": "python",
   "nbconvert_exporter": "python",
   "pygments_lexer": "ipython3",
   "version": "3.8.3"
  }
 },
 "nbformat": 4,
 "nbformat_minor": 4
}
